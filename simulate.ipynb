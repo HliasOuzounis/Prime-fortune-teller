{
 "cells": [
  {
   "cell_type": "code",
   "execution_count": 1,
   "metadata": {},
   "outputs": [],
   "source": [
    "import torch\n",
    "\n",
    "from prime_model import device\n",
    "from population import Population"
   ]
  },
  {
   "cell_type": "code",
   "execution_count": 2,
   "metadata": {},
   "outputs": [],
   "source": [
    "# 20 0 or 1 bits to represent the number\n",
    "inputs = 20\n",
    "# 2 possible outputs: prime or not prime\n",
    "outputs = 2"
   ]
  },
  {
   "cell_type": "code",
   "execution_count": 3,
   "metadata": {},
   "outputs": [],
   "source": [
    "def gen_primes(n):\n",
    "    sieve = [True] * n\n",
    "    for i in range(2, int(n ** 0.5) + 1):\n",
    "        if sieve[i]:\n",
    "            for j in range(i*i, n, i):\n",
    "                sieve[j] = False\n",
    "    sieve[0] = False\n",
    "    sieve[1] = False\n",
    "    return sieve\n",
    "\n",
    "upper_bound = 2 ** inputs - 1\n",
    "primes = gen_primes(upper_bound)"
   ]
  },
  {
   "cell_type": "code",
   "execution_count": 4,
   "metadata": {},
   "outputs": [],
   "source": [
    "import random\n",
    "\n",
    "size = 250_000\n",
    "dataset_numbers = random.sample(range(3, upper_bound, 2), size)\n",
    "\n",
    "train_size = int(size * 0.8)\n",
    "train_numbers = dataset_numbers[:train_size]\n",
    "test_numbers = dataset_numbers[train_size:]"
   ]
  },
  {
   "cell_type": "code",
   "execution_count": 5,
   "metadata": {},
   "outputs": [
    {
     "name": "stdout",
     "output_type": "stream",
     "text": [
      "torch.Size([200000, 20]) torch.Size([200000, 2])\n",
      "torch.Size([50000, 20]) torch.Size([50000, 2])\n"
     ]
    }
   ],
   "source": [
    "x_train = torch.tensor([list(map(int, [*format(i, \"020b\")]))\n",
    "                        for i in train_numbers], dtype=torch.float, device=device)\n",
    "x_test = torch.tensor([list(map(int, [*format(i, \"020b\")]))\n",
    "                       for i in test_numbers], dtype=torch.float, device=device)\n",
    "y_train = torch.tensor([[0, 1] if primes[i] else [1, 0]\n",
    "                       for i in train_numbers], dtype=torch.float, device=device)\n",
    "y_test = torch.tensor([[0, 1] if primes[i] else [1, 0]\n",
    "                       for i in test_numbers], dtype=torch.float, device=device)\n",
    "\n",
    "print(x_train.shape, y_train.shape)\n",
    "print(x_test.shape, y_test.shape)"
   ]
  },
  {
   "cell_type": "code",
   "execution_count": 6,
   "metadata": {},
   "outputs": [
    {
     "name": "stderr",
     "output_type": "stream",
     "text": [
      "/home/hlias/.local/lib/python3.11/site-packages/torch/nn/modules/container.py:217: UserWarning: Implicit dimension choice for softmax has been deprecated. Change the call to include dim=X as an argument.\n",
      "  input = module(input)\n"
     ]
    },
    {
     "name": "stdout",
     "output_type": "stream",
     "text": [
      "Generation 10 Best loss: 1.1241936683654785\n",
      "Generation 20 Best loss: 1.1239060163497925\n",
      "Generation 30 Best loss: 1.1236482858657837\n",
      "Generation 40 Best loss: 1.1233091354370117\n",
      "Generation 50 Best loss: 1.1231203079223633\n",
      "Generation 60 Best loss: 1.1229485273361206\n",
      "Generation 70 Best loss: 1.1227960586547852\n",
      "Generation 80 Best loss: 1.1226543188095093\n",
      "Generation 90 Best loss: 1.1225756406784058\n",
      "Generation 100 Best loss: 1.1225216388702393\n"
     ]
    }
   ],
   "source": [
    "population = Population()\n",
    "best_agent = population.simulate(x_train, y_train, mutation_rate=0.01)"
   ]
  },
  {
   "cell_type": "code",
   "execution_count": 7,
   "metadata": {},
   "outputs": [
    {
     "name": "stdout",
     "output_type": "stream",
     "text": [
      "General accuracy: 72.19%\n",
      "Primes accuracy: 21.59% from 7919 primes\n"
     ]
    }
   ],
   "source": [
    "general_accuracy = 0\n",
    "primes_accuracy = 0\n",
    "primes_count = 0\n",
    "for x, y in zip(x_test, y_test):\n",
    "    prediction = best_agent.forward(x)\n",
    "    if y.argmax() == 1:\n",
    "        primes_count += 1\n",
    "    if prediction.argmax() == y.argmax():\n",
    "        general_accuracy += 1\n",
    "        if y.argmax() == 1:\n",
    "            primes_accuracy += 1\n",
    "\n",
    "print(f\"General accuracy: {general_accuracy / len(x_test) * 100:.2f}%\")\n",
    "print(f\"Primes accuracy: {primes_accuracy / primes_count * 100:.2f}% from {primes_count} primes\")"
   ]
  }
 ],
 "metadata": {
  "kernelspec": {
   "display_name": "Python 3",
   "language": "python",
   "name": "python3"
  },
  "language_info": {
   "codemirror_mode": {
    "name": "ipython",
    "version": 3
   },
   "file_extension": ".py",
   "mimetype": "text/x-python",
   "name": "python",
   "nbconvert_exporter": "python",
   "pygments_lexer": "ipython3",
   "version": "3.11.6"
  }
 },
 "nbformat": 4,
 "nbformat_minor": 2
}
